{
 "cells": [
  {
   "cell_type": "markdown",
   "id": "e2706cbd",
   "metadata": {},
   "source": [
    "## Transform "
   ]
  },
  {
   "cell_type": "markdown",
   "id": "0b8e2479",
   "metadata": {},
   "source": [
    "데이터셋을 불러오는 경우에 transfrom을 적용하여 모델에 알맞는 형태로 조작하여야 한다.  \n",
    "`torchvision.transforms`를 통해 여러가지 변형을 이용할 수 있으며   \n",
    "아래 코드에서는 학습이미지에 대해서는 `ToTensor()`를 적용하여 array형태의 이미지를 tensor로 받아오게 하고  \n",
    "label에 대해서는 `Lambda`를 이용하여 원 핫 인코딩 형태로 받아오게 한다. "
   ]
  },
  {
   "cell_type": "code",
   "execution_count": 7,
   "id": "a7d7c818",
   "metadata": {},
   "outputs": [],
   "source": [
    "import torch\n",
    "from torchvision import datasets\n",
    "from torchvision.transforms import ToTensor, Lambda\n",
    "\n",
    "ds = datasets.FashionMNIST(\n",
    "    root=\"data\",\n",
    "    train=True,\n",
    "    download=True,\n",
    "    transform=ToTensor(),\n",
    "    target_transform=Lambda(lambda y: torch.zeros(10, dtype=torch.float).scatter_(0, torch.tensor(y), value=1))\n",
    ")"
   ]
  },
  {
   "cell_type": "code",
   "execution_count": 8,
   "id": "eedfded7",
   "metadata": {},
   "outputs": [
    {
     "data": {
      "text/plain": [
       "tensor([0., 0., 0., 0., 0., 0., 0., 0., 0., 1.])"
      ]
     },
     "execution_count": 8,
     "metadata": {},
     "output_type": "execute_result"
    }
   ],
   "source": [
    "ds[0][1]"
   ]
  },
  {
   "cell_type": "code",
   "execution_count": null,
   "id": "a8f4b311",
   "metadata": {},
   "outputs": [],
   "source": []
  }
 ],
 "metadata": {
  "kernelspec": {
   "display_name": "torch",
   "language": "python",
   "name": "torch"
  },
  "language_info": {
   "codemirror_mode": {
    "name": "ipython",
    "version": 3
   },
   "file_extension": ".py",
   "mimetype": "text/x-python",
   "name": "python",
   "nbconvert_exporter": "python",
   "pygments_lexer": "ipython3",
   "version": "3.7.11"
  }
 },
 "nbformat": 4,
 "nbformat_minor": 5
}
